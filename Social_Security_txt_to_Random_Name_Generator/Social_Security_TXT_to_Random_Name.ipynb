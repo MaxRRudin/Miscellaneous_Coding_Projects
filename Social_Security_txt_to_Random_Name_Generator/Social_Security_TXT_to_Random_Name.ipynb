{
  "nbformat": 4,
  "nbformat_minor": 0,
  "metadata": {
    "colab": {
      "provenance": []
    },
    "kernelspec": {
      "name": "python3",
      "display_name": "Python 3"
    },
    "language_info": {
      "name": "python"
    }
  },
  "cells": [
    {
      "cell_type": "code",
      "execution_count": null,
      "metadata": {
        "colab": {
          "base_uri": "https://localhost:8080/"
        },
        "id": "Yw-2I1fWy3A3",
        "outputId": "055292cb-b515-441e-b6e7-9ca1c2b029b7"
      },
      "outputs": [
        {
          "name": "stdout",
          "output_type": "stream",
          "text": [
            "yob1907.txt\n"
          ]
        }
      ],
      "source": [
        "import csv\n",
        "import random\n",
        "\n",
        "names = input()  #Input the name of your txt file\n",
        "\n",
        "#Opens names and stores it as string x\n",
        "with open(names, \"r\") as file:\n",
        "  x = file.read()\n",
        "\n",
        "#Splits txt into list of name,sex,number units\n",
        "y = x.split(\"\\n\")\n",
        "\n",
        "#Splits y into three lists for name, sex, and number\n",
        "z = [None]*(len(y)-1)\n",
        "namelist = [None]*(len(y)-1)\n",
        "sex = [None]*(len(y)-1)\n",
        "number = [None]*(len(y)-1)\n",
        "numbercdf = [None]*(len(y)-1)\n",
        "for i in range(len(y)-1):\n",
        "  z[i] = y[i].split(\",\")\n",
        "  namelist[i] = z[i][0]\n",
        "  sex[i] = z[i][1]\n",
        "  number[i] = int(z[i][2])\n",
        "  numbercdf[i] = sum(number[:i])\n",
        "\n",
        "#Normalizes the numbercdf list\n",
        "normcdf = [None]*(len(y)-1)\n",
        "for i in range(len(numbercdf)):\n",
        "  normcdf[i] = numbercdf[i]/sum(number)\n",
        "\n",
        "\n",
        "length = 0\n",
        "for i in sex:\n",
        "  if i == \"M\":\n",
        "    length = length + 1\n",
        "\n",
        "#Creates list of male names\n",
        "malenames = [None]*length\n",
        "malenum = [None]*length\n",
        "j = 0\n",
        "for i in range(len(namelist)):\n",
        "  if sex[i] == \"M\":\n",
        "    malenames[j] = namelist[i]\n",
        "    malenum[j] = number[i]\n",
        "    j = j + 1\n",
        "\n",
        "malenumcdf = [None]*length\n",
        "for i in range(len(malenum)):\n",
        "  malenumcdf[i] = sum(malenum[:i])\n",
        "\n",
        "#Normalizes the malenumcdf list\n",
        "malenormcdf = [None]*length\n",
        "for i in range(len(malenum)):\n",
        "  malenormcdf[i] = malenumcdf[i]/sum(malenum)\n",
        "\n",
        "\n",
        "length = 0\n",
        "for i in sex:\n",
        "  if i == \"F\":\n",
        "    length = length + 1\n",
        "\n",
        "#Creates list of female names\n",
        "femalenames = [None]*length\n",
        "femalenum = [None]*length\n",
        "j = 0\n",
        "for i in range(len(namelist)):\n",
        "  if sex[i] == \"F\":\n",
        "    femalenames[j] = namelist[i]\n",
        "    femalenum[j] = number[i]\n",
        "    j = j + 1\n",
        "\n",
        "femalenumcdf = [None]*length\n",
        "for i in range(len(femalenum)):\n",
        "  femalenumcdf[i] = sum(femalenum[:i])\n",
        "\n",
        "#Normalizes the femalenumcdf list\n",
        "femalenormcdf = [None]*length\n",
        "for i in range(len(femalenum)):\n",
        "  femalenormcdf[i] = femalenumcdf[i]/sum(femalenum)"
      ]
    },
    {
      "cell_type": "code",
      "source": [
        "#Random name\n",
        "rand = random.random()\n",
        "\n",
        "count = [None]*len(normcdf)\n",
        "item = 0\n",
        "for i in range(len(normcdf)):\n",
        "  if normcdf[i] < rand:\n",
        "    item = item + 1\n",
        "\n",
        "if sex[item] == \"M\":\n",
        "  print(\"Male name of rank \" + str(item) + \": \" + namelist[item])\n",
        "else:\n",
        "  print(\"Female name of rank \" + str(item) + \": \" + namelist[item])"
      ],
      "metadata": {
        "colab": {
          "base_uri": "https://localhost:8080/"
        },
        "id": "eRcAPyv9664Q",
        "outputId": "d30ffd41-4142-400b-f0d3-a13701e55f6f"
      },
      "execution_count": null,
      "outputs": [
        {
          "output_type": "stream",
          "name": "stdout",
          "text": [
            "Female name of rank 14: Deborah\n"
          ]
        }
      ]
    },
    {
      "cell_type": "code",
      "source": [
        "#Random male name\n",
        "rand = random.random()\n",
        "\n",
        "count = [None]*len(malenormcdf)\n",
        "item = 0\n",
        "for i in range(len(malenormcdf)):\n",
        "  if malenormcdf[i] < rand:\n",
        "    item = item + 1\n",
        "\n",
        "print(\"Male name of rank \" + str(item) + \": \" + malenames[item])"
      ],
      "metadata": {
        "colab": {
          "base_uri": "https://localhost:8080/"
        },
        "id": "3bXCg8B9fh_d",
        "outputId": "3233af4b-eba8-4b0a-ed68-223b69dadae2"
      },
      "execution_count": null,
      "outputs": [
        {
          "output_type": "stream",
          "name": "stdout",
          "text": [
            "Male name of rank 1428: Helge\n"
          ]
        }
      ]
    },
    {
      "cell_type": "code",
      "source": [
        "#Random female name\n",
        "rand = random.random()\n",
        "\n",
        "count = [None]*len(femalenormcdf)\n",
        "item = 0\n",
        "for i in range(len(femalenormcdf)):\n",
        "  if femalenormcdf[i] < rand:\n",
        "    item = item + 1\n",
        "\n",
        "print(\"Female name of rank \" + str(item) + \": \" + femalenames[item])"
      ],
      "metadata": {
        "colab": {
          "base_uri": "https://localhost:8080/"
        },
        "id": "2fvYq-PskkL-",
        "outputId": "65298b0e-3afc-4d8a-955d-674add89082d"
      },
      "execution_count": null,
      "outputs": [
        {
          "output_type": "stream",
          "name": "stdout",
          "text": [
            "Female name of rank 28: Clara\n"
          ]
        }
      ]
    },
    {
      "cell_type": "code",
      "source": [
        "#Random top ___ name\n",
        "\n",
        "rank = input()\n",
        "\n",
        "a = normcdf[int(rank)]\n",
        "\n",
        "#Normalizes the numbercdf list\n",
        "newnorm = [None]*len(normcdf)\n",
        "for i in range(len(normcdf)):\n",
        "  newnorm[i] = normcdf[i]/a\n",
        "\n",
        "rand = random.random()\n",
        "\n",
        "count = [None]*len(newnorm)\n",
        "item = 0\n",
        "for i in range(len(newnorm)):\n",
        "  if newnorm[i] < rand:\n",
        "    item = item + 1\n",
        "\n",
        "if sex[item] == \"M\":\n",
        "  print(\"Male name of rank \" + str(item) + \": \" + namelist[item])\n",
        "else:\n",
        "  print(\"Female name of rank \" + str(item) + \": \" + namelist[item])"
      ],
      "metadata": {
        "colab": {
          "base_uri": "https://localhost:8080/"
        },
        "id": "j4y4wqShArKo",
        "outputId": "4cc7b3eb-710e-4528-ab19-6cf1f7142b47"
      },
      "execution_count": null,
      "outputs": [
        {
          "output_type": "stream",
          "name": "stdout",
          "text": [
            "1000\n",
            "Female name of rank 487: Opal\n"
          ]
        }
      ]
    }
  ]
}